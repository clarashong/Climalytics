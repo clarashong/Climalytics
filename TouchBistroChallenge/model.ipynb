{
 "cells": [
  {
   "cell_type": "markdown",
   "metadata": {
    "vscode": {
     "languageId": "plaintext"
    }
   },
   "source": [
    "# CxC Challenge 2025 \n",
    "By Clara Hong and Tyler Ah Von "
   ]
  },
  {
   "cell_type": "markdown",
   "metadata": {},
   "source": [
    "## Setup datasets \n",
    "The main dataset used is a summarized dataset that we put together that can be found in `datasets/WeatherandHolidays.csv`. Unzip the submission zip file and extract the contents into the project root folder. Ensure that dataset/ is in the project root folder. \n",
    "\n",
    "If not found, get the full dataset with the summarized transactions, weather, and holiday data by following these steps: \n",
    "1. Place the touchbistro bills.csv and venues.csv file in the datasets folder. Make sure the datasets folder is in project root folder\n",
    "2. We have provided cityWeather.csv and Holidays_CanUS.csv that was obtained through APIs, you can see the process scripts in the script folder\n",
    "3. Run all cells in createDataset.ipynb\n",
    "\n",
    "## About the summarized dataset \n",
    "The summarized dataset has records for each day for each restaurant. Summing up the bill data as well as keeping counts of the different order types. \n",
    "Check out some of our analysis in `scripts/analysis.ipynb`"
   ]
  },
  {
   "cell_type": "markdown",
   "metadata": {},
   "source": [
    "## Imports"
   ]
  },
  {
   "cell_type": "code",
   "execution_count": 1,
   "metadata": {},
   "outputs": [],
   "source": [
    "import numpy as np\n",
    "import pandas as pd\n",
    "import sklearn as sk\n",
    "from sklearn.model_selection import train_test_split\n",
    "from sklearn.metrics import mean_squared_error, r2_score\n",
    "from sklearn.linear_model import LinearRegression\n",
    "from sklearn.ensemble import RandomForestRegressor\n",
    "from sklearn.multioutput import MultiOutputRegressor\n",
    "\n",
    "import warnings\n",
    "warnings.filterwarnings(\"ignore\")"
   ]
  },
  {
   "cell_type": "code",
   "execution_count": 2,
   "metadata": {},
   "outputs": [],
   "source": [
    "df = pd.read_csv('./datasets/WeatherandHolidays.csv')\n",
    "df['concept'] = df['concept'].fillna(\"Unknown\")\n",
    "df['output'] = df[['sales_revenue_with_tax', 'dinein', 'bartab', 'takeout', 'delivery', 'onlineorder']].apply(lambda row: np.array(row), axis=1)\n",
    "\n",
    "# output_columns = ['sales_revenue_with_tax', 'dinein', 'bartab', 'takeout', 'delivery', 'onlineorder']\n",
    "# df[output_columns] = pd.DataFrame(df['output'].tolist(), index=df.index)"
   ]
  },
  {
   "cell_type": "code",
   "execution_count": 3,
   "metadata": {},
   "outputs": [],
   "source": [
    "totalorder = df[['venue_xref_id', 'payment_count']]\n",
    "totalorder = totalorder.groupby('venue_xref_id').sum()\n",
    "\n",
    "count = pd.DataFrame(df.groupby('venue_xref_id').size(), columns=['count'])\n",
    "totalorder = pd.merge(totalorder, count, on='venue_xref_id', how = 'left')\n",
    "totalorder['average'] = totalorder['payment_count']/totalorder['count']\n",
    "\n",
    "df = pd.merge(df, totalorder, on='venue_xref_id', how ='left')"
   ]
  },
  {
   "cell_type": "markdown",
   "metadata": {},
   "source": [
    "## Training the model"
   ]
  },
  {
   "cell_type": "code",
   "execution_count": 4,
   "metadata": {},
   "outputs": [
    {
     "name": "stdout",
     "output_type": "stream",
     "text": [
      "Multi-output MSE:  336.5933611008979\n",
      "R^2 score:  0.7555429590087621\n"
     ]
    }
   ],
   "source": [
    "train = df[['average', 'apparent_temperature_max','apparent_temperature_min','precipitation_sum','rain_sum','snowfall_sum',\n",
    "           'holiday','weekend']]\n",
    "X = train\n",
    "y = df[['dinein', 'bartab', 'takeout', 'delivery', 'onlineorder']]\n",
    "\n",
    "X_train, X_test, y_train, y_test = train_test_split(\n",
    "    X, y, test_size=0.2, random_state=42\n",
    ")\n",
    "\n",
    "model = MultiOutputRegressor(RandomForestRegressor(random_state=42))\n",
    "model.fit(X_train, y_train)\n",
    "y_pred = model.predict(X_test)\n",
    "mse_multi = mean_squared_error(y_test, y_pred)\n",
    "print(\"Multi-output MSE: \", mse_multi)\n",
    "\n",
    "r2 = r2_score(y_test, y_pred)\n",
    "print(\"R^2 score: \", r2)\n"
   ]
  }
 ],
 "metadata": {
  "kernelspec": {
   "display_name": "Python [conda env:base] *",
   "language": "python",
   "name": "conda-base-py"
  },
  "language_info": {
   "codemirror_mode": {
    "name": "ipython",
    "version": 3
   },
   "file_extension": ".py",
   "mimetype": "text/x-python",
   "name": "python",
   "nbconvert_exporter": "python",
   "pygments_lexer": "ipython3",
   "version": "3.12.7"
  }
 },
 "nbformat": 4,
 "nbformat_minor": 2
}
